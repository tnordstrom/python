{
 "cells": [
  {
   "cell_type": "code",
   "execution_count": 1,
   "id": "44e7d6be",
   "metadata": {},
   "outputs": [
    {
     "name": "stdout",
     "output_type": "stream",
     "text": [
      "2022-06-06 08:43:46,487 - INFO    | Server started : http://192.168.17.186:8111\n",
      " * Serving Flask app 'BAC0.web.FlaskServer' (lazy loading)\n",
      " * Environment: production\n",
      "\u001b[31m   WARNING: This is a development server. Do not use it in a production deployment.\u001b[0m\n",
      "\u001b[2m   Use a production WSGI server instead.\u001b[0m\n",
      " * Debug mode: off\n"
     ]
    },
    {
     "name": "stderr",
     "output_type": "stream",
     "text": [
      " * Running on all addresses (0.0.0.0)\n",
      "   WARNING: This is a development server. Do not use it in a production deployment.\n",
      " * Running on http://127.0.0.1:8111\n",
      " * Running on http://192.168.130.27:8111 (Press CTRL+C to quit)\n"
     ]
    },
    {
     "name": "stdout",
     "output_type": "stream",
     "text": [
      "2022-06-06 08:43:48,589 - INFO    | 0xc0a811fed9a4 router to [65519]\n",
      "2022-06-06 08:43:50,538 - INFO    | Addr : 0xc0a811fed9a4\n",
      "2022-06-06 08:43:52,556 - INFO    | Found those networks : {65519}\n",
      "2022-06-06 08:43:52,556 - INFO    | Discovering network 65519\n",
      "2022-06-06 08:43:55,596 - INFO    | Changing device state to DeviceDisconnected'>\n",
      "2022-06-06 08:43:55,778 - INFO    | Changing device state to RPMDeviceConnected'>\n",
      "2022-06-06 08:43:55,964 - INFO    | Device 4000:[RC-FLEXair-33-A-F] found... building points list\n",
      "2022-06-06 08:43:57,132 - INFO    | Ready!\n",
      "2022-06-06 08:43:57,132 - INFO    | Device defined for normal polling with a delay of 60sec\n",
      "2022-06-06 08:43:57,133 - INFO    | Polling started, values read every 60 seconds\n",
      "2022-06-06 08:43:57,134 - INFO    | Changing device state to DeviceDisconnected'>\n",
      "2022-06-06 08:43:57,249 - INFO    | Changing device state to RPMDeviceConnected'>\n",
      "2022-06-06 08:43:57,437 - INFO    | Device 7000:[MACH-ProView LCD MPV-L-E-H-OC-V-PM] found... building points list\n",
      "2022-06-06 08:43:57,942 - ERROR   | Problem creating ('trendLog', 3009)\n",
      "2022-06-06 08:43:59,001 - ERROR   | Problem creating ('trendLog', 5004)\n",
      "2022-06-06 08:43:59,060 - ERROR   | Problem creating ('trendLog', 5008)\n",
      "2022-06-06 08:43:59,611 - INFO    | Ready!\n",
      "2022-06-06 08:43:59,612 - INFO    | Device defined for normal polling with a delay of 60sec\n",
      "2022-06-06 08:43:59,613 - INFO    | Polling started, values read every 60 seconds\n",
      "2022-06-06 08:43:59,614 - INFO    | Changing device state to DeviceDisconnected'>\n",
      "2022-06-06 08:43:59,733 - INFO    | Changing device state to RPMDeviceConnected'>\n",
      "2022-06-06 08:43:59,916 - INFO    | Device 50000:[RC-FLEXair-36-A-F] found... building points list\n",
      "2022-06-06 08:44:01,468 - INFO    | Ready!\n",
      "2022-06-06 08:44:01,468 - INFO    | Device defined for normal polling with a delay of 60sec\n",
      "2022-06-06 08:44:01,469 - INFO    | Polling started, values read every 60 seconds\n",
      "2022-06-06 08:44:01,470 - INFO    | Changing device state to DeviceDisconnected'>\n",
      "2022-06-06 08:44:01,584 - INFO    | Changing device state to RPMDeviceConnected'>\n",
      "2022-06-06 08:44:01,769 - INFO    | Device 100000:[MACH-ProWeb] found... building points list\n",
      "2022-06-06 08:44:06,178 - ERROR   | Problem creating ('trendLog', 4001)\n",
      "2022-06-06 08:44:06,241 - ERROR   | Problem creating ('trendLog', 5004)\n",
      "2022-06-06 08:44:06,304 - ERROR   | Problem creating ('trendLog', 5005)\n",
      "2022-06-06 08:44:06,365 - ERROR   | Problem creating ('trendLog', 5017)\n",
      "2022-06-06 08:44:06,426 - ERROR   | Problem creating ('trendLog', 5021)\n",
      "2022-06-06 08:44:06,488 - ERROR   | Problem creating ('trendLog', 5028)\n",
      "2022-06-06 08:44:06,549 - ERROR   | Problem creating ('trendLog', 5029)\n",
      "2022-06-06 08:44:06,612 - ERROR   | Problem creating ('trendLog', 5034)\n",
      "2022-06-06 08:44:06,673 - ERROR   | Problem creating ('trendLog', 5038)\n",
      "2022-06-06 08:44:06,733 - ERROR   | Problem creating ('trendLog', 5040)\n",
      "2022-06-06 08:44:06,794 - ERROR   | Problem creating ('trendLog', 5042)\n",
      "2022-06-06 08:44:06,855 - ERROR   | Problem creating ('trendLog', 5048)\n",
      "2022-06-06 08:44:06,917 - ERROR   | Problem creating ('trendLog', 5049)\n",
      "2022-06-06 08:44:06,981 - ERROR   | Problem creating ('trendLog', 5050)\n",
      "2022-06-06 08:44:07,041 - ERROR   | Problem creating ('trendLog', 5051)\n",
      "2022-06-06 08:44:07,103 - ERROR   | Problem creating ('trendLog', 5052)\n",
      "2022-06-06 08:44:07,165 - ERROR   | Problem creating ('trendLog', 5053)\n",
      "2022-06-06 08:44:11,965 - INFO    | Ready!\n",
      "2022-06-06 08:44:11,966 - INFO    | Device defined for normal polling with a delay of 60sec\n",
      "2022-06-06 08:44:11,967 - INFO    | Polling started, values read every 60 seconds\n"
     ]
    },
    {
     "name": "stderr",
     "output_type": "stream",
     "text": [
      "127.0.0.1 - - [06/Jun/2022 08:44:34] \"GET /dash_devices HTTP/1.1\" 200 -\n",
      "127.0.0.1 - - [06/Jun/2022 08:44:35] \"GET /static/assets/css/bootstrap.min.css HTTP/1.1\" 304 -\n",
      "127.0.0.1 - - [06/Jun/2022 08:44:35] \"GET /static/assets/css/animate.min.css HTTP/1.1\" 304 -\n",
      "127.0.0.1 - - [06/Jun/2022 08:44:35] \"GET /static/assets/js/jquery-1.10.2.js HTTP/1.1\" 304 -\n",
      "127.0.0.1 - - [06/Jun/2022 08:44:35] \"GET /static/assets/css/paper-dashboard.css HTTP/1.1\" 304 -\n",
      "127.0.0.1 - - [06/Jun/2022 08:44:35] \"GET /static/assets/css/demo.css HTTP/1.1\" 304 -\n",
      "127.0.0.1 - - [06/Jun/2022 08:44:35] \"GET /static/assets/css/themify-icons.css HTTP/1.1\" 304 -\n",
      "127.0.0.1 - - [06/Jun/2022 08:44:36] \"GET /static/assets/fonts/themify.woff?-fvbane HTTP/1.1\" 304 -\n",
      "127.0.0.1 - - [06/Jun/2022 08:44:36] \"GET /static/assets/img/favicon.png HTTP/1.1\" 304 -\n",
      "127.0.0.1 - - [06/Jun/2022 08:44:40] \"GET / HTTP/1.1\" 200 -\n",
      "127.0.0.1 - - [06/Jun/2022 08:44:40] \"GET /static/assets/css/bootstrap.min.css HTTP/1.1\" 304 -\n",
      "127.0.0.1 - - [06/Jun/2022 08:44:40] \"GET /static/assets/css/animate.min.css HTTP/1.1\" 304 -\n",
      "127.0.0.1 - - [06/Jun/2022 08:44:40] \"GET /static/assets/css/paper-dashboard.css HTTP/1.1\" 304 -\n",
      "127.0.0.1 - - [06/Jun/2022 08:44:40] \"GET /static/assets/css/demo.css HTTP/1.1\" 304 -\n",
      "127.0.0.1 - - [06/Jun/2022 08:44:40] \"GET /static/assets/css/themify-icons.css HTTP/1.1\" 304 -\n",
      "127.0.0.1 - - [06/Jun/2022 08:44:40] \"GET /static/assets/js/jquery-1.10.2.js HTTP/1.1\" 304 -\n",
      "127.0.0.1 - - [06/Jun/2022 08:44:46] \"GET / HTTP/1.1\" 200 -\n",
      "127.0.0.1 - - [06/Jun/2022 08:44:46] \"GET /static/assets/css/bootstrap.min.css HTTP/1.1\" 304 -\n",
      "127.0.0.1 - - [06/Jun/2022 08:44:46] \"GET /static/assets/css/animate.min.css HTTP/1.1\" 304 -\n",
      "127.0.0.1 - - [06/Jun/2022 08:44:46] \"GET /static/assets/css/paper-dashboard.css HTTP/1.1\" 304 -\n",
      "127.0.0.1 - - [06/Jun/2022 08:44:46] \"GET /static/assets/js/jquery-1.10.2.js HTTP/1.1\" 304 -\n",
      "127.0.0.1 - - [06/Jun/2022 08:44:46] \"GET /static/assets/css/demo.css HTTP/1.1\" 304 -\n",
      "127.0.0.1 - - [06/Jun/2022 08:44:46] \"GET /static/assets/css/themify-icons.css HTTP/1.1\" 304 -\n",
      "127.0.0.1 - - [06/Jun/2022 08:44:47] \"GET /static/assets/img/favicon.png HTTP/1.1\" 304 -\n"
     ]
    },
    {
     "name": "stdout",
     "output_type": "stream",
     "text": [
      "2022-06-06 08:44:49,495 - WARNING | APDU Abort Reject Reason : Timeout\n",
      "2022-06-06 08:44:49,498 - WARNING | No response from controller Timeout\n"
     ]
    },
    {
     "name": "stderr",
     "output_type": "stream",
     "text": [
      "127.0.0.1 - - [06/Jun/2022 08:44:51] \"GET /dash_devices HTTP/1.1\" 200 -\n",
      "127.0.0.1 - - [06/Jun/2022 08:44:51] \"GET /static/assets/css/bootstrap.min.css HTTP/1.1\" 304 -\n",
      "127.0.0.1 - - [06/Jun/2022 08:44:51] \"GET /static/assets/css/animate.min.css HTTP/1.1\" 304 -\n",
      "127.0.0.1 - - [06/Jun/2022 08:44:51] \"GET /static/assets/css/demo.css HTTP/1.1\" 304 -\n",
      "127.0.0.1 - - [06/Jun/2022 08:44:51] \"GET /static/assets/css/paper-dashboard.css HTTP/1.1\" 304 -\n",
      "127.0.0.1 - - [06/Jun/2022 08:44:51] \"GET /static/assets/css/themify-icons.css HTTP/1.1\" 304 -\n",
      "127.0.0.1 - - [06/Jun/2022 08:44:51] \"GET /static/assets/js/jquery-1.10.2.js HTTP/1.1\" 304 -\n",
      "127.0.0.1 - - [06/Jun/2022 08:44:57] \"GET /trends HTTP/1.1\" 200 -\n",
      "127.0.0.1 - - [06/Jun/2022 08:44:57] \"GET /static/assets/css/bootstrap.min.css HTTP/1.1\" 304 -\n",
      "127.0.0.1 - - [06/Jun/2022 08:44:57] \"GET /static/assets/css/animate.min.css HTTP/1.1\" 304 -\n",
      "127.0.0.1 - - [06/Jun/2022 08:44:57] \"GET /static/assets/css/demo.css HTTP/1.1\" 304 -\n",
      "127.0.0.1 - - [06/Jun/2022 08:44:57] \"GET /static/assets/css/themify-icons.css HTTP/1.1\" 304 -\n",
      "127.0.0.1 - - [06/Jun/2022 08:44:57] \"GET /static/assets/css/paper-dashboard.css HTTP/1.1\" 304 -\n",
      "127.0.0.1 - - [06/Jun/2022 08:44:57] \"GET /static/assets/js/jquery-1.10.2.js HTTP/1.1\" 304 -\n",
      "127.0.0.1 - - [06/Jun/2022 08:44:59] \"GET / HTTP/1.1\" 200 -\n",
      "127.0.0.1 - - [06/Jun/2022 08:44:59] \"GET /static/assets/css/bootstrap.min.css HTTP/1.1\" 304 -\n",
      "127.0.0.1 - - [06/Jun/2022 08:44:59] \"GET /static/assets/css/animate.min.css HTTP/1.1\" 304 -\n",
      "127.0.0.1 - - [06/Jun/2022 08:44:59] \"GET /static/assets/css/paper-dashboard.css HTTP/1.1\" 304 -\n",
      "127.0.0.1 - - [06/Jun/2022 08:44:59] \"GET /static/assets/css/demo.css HTTP/1.1\" 304 -\n",
      "127.0.0.1 - - [06/Jun/2022 08:44:59] \"GET /static/assets/css/themify-icons.css HTTP/1.1\" 304 -\n",
      "127.0.0.1 - - [06/Jun/2022 08:44:59] \"GET /static/assets/js/jquery-1.10.2.js HTTP/1.1\" 304 -\n"
     ]
    },
    {
     "name": "stdout",
     "output_type": "stream",
     "text": [
      "2022-06-06 08:45:04,600 - WARNING | APDU Abort Reject Reason : Timeout\n",
      "2022-06-06 08:45:04,601 - WARNING | No response from controller Timeout\n"
     ]
    },
    {
     "name": "stderr",
     "output_type": "stream",
     "text": [
      "127.0.0.1 - - [06/Jun/2022 08:48:35] \"GET / HTTP/1.1\" 200 -\n",
      "127.0.0.1 - - [06/Jun/2022 08:48:35] \"GET /static/assets/css/bootstrap.min.css HTTP/1.1\" 304 -\n",
      "127.0.0.1 - - [06/Jun/2022 08:48:35] \"GET /static/assets/css/animate.min.css HTTP/1.1\" 304 -\n",
      "127.0.0.1 - - [06/Jun/2022 08:48:35] \"GET /static/assets/css/paper-dashboard.css HTTP/1.1\" 304 -\n",
      "127.0.0.1 - - [06/Jun/2022 08:48:35] \"GET /static/assets/css/demo.css HTTP/1.1\" 304 -\n",
      "127.0.0.1 - - [06/Jun/2022 08:48:35] \"GET /static/assets/css/themify-icons.css HTTP/1.1\" 304 -\n",
      "127.0.0.1 - - [06/Jun/2022 08:48:35] \"GET /static/assets/js/jquery-1.10.2.js HTTP/1.1\" 304 -\n",
      "127.0.0.1 - - [06/Jun/2022 08:48:36] \"GET /static/assets/fonts/themify.woff?-fvbane HTTP/1.1\" 304 -\n",
      "127.0.0.1 - - [06/Jun/2022 08:48:36] \"GET /static/assets/img/favicon.png HTTP/1.1\" 304 -\n",
      "127.0.0.1 - - [06/Jun/2022 08:48:42] \"GET /dash_devices HTTP/1.1\" 200 -\n",
      "127.0.0.1 - - [06/Jun/2022 08:48:43] \"GET /static/assets/css/bootstrap.min.css HTTP/1.1\" 304 -\n",
      "127.0.0.1 - - [06/Jun/2022 08:48:43] \"GET /static/assets/css/animate.min.css HTTP/1.1\" 304 -\n",
      "127.0.0.1 - - [06/Jun/2022 08:48:43] \"GET /static/assets/css/paper-dashboard.css HTTP/1.1\" 304 -\n",
      "127.0.0.1 - - [06/Jun/2022 08:48:43] \"GET /static/assets/js/jquery-1.10.2.js HTTP/1.1\" 304 -\n",
      "127.0.0.1 - - [06/Jun/2022 08:48:43] \"GET /static/assets/css/demo.css HTTP/1.1\" 304 -\n",
      "127.0.0.1 - - [06/Jun/2022 08:48:43] \"GET /static/assets/css/themify-icons.css HTTP/1.1\" 304 -\n",
      "127.0.0.1 - - [06/Jun/2022 08:48:48] \"GET / HTTP/1.1\" 200 -\n",
      "127.0.0.1 - - [06/Jun/2022 08:48:48] \"GET /static/assets/css/bootstrap.min.css HTTP/1.1\" 304 -\n",
      "127.0.0.1 - - [06/Jun/2022 08:48:49] \"GET /static/assets/css/animate.min.css HTTP/1.1\" 304 -\n",
      "127.0.0.1 - - [06/Jun/2022 08:48:49] \"GET /static/assets/css/themify-icons.css HTTP/1.1\" 304 -\n",
      "127.0.0.1 - - [06/Jun/2022 08:48:49] \"GET /static/assets/css/demo.css HTTP/1.1\" 304 -\n",
      "127.0.0.1 - - [06/Jun/2022 08:48:49] \"GET /static/assets/css/paper-dashboard.css HTTP/1.1\" 304 -\n",
      "127.0.0.1 - - [06/Jun/2022 08:48:49] \"GET /static/assets/js/jquery-1.10.2.js HTTP/1.1\" 304 -\n"
     ]
    },
    {
     "name": "stdout",
     "output_type": "stream",
     "text": [
      "2022-06-06 08:48:56,406 - WARNING | APDU Abort Reject Reason : Timeout\n",
      "2022-06-06 08:48:56,407 - WARNING | No response from controller Timeout\n"
     ]
    },
    {
     "name": "stderr",
     "output_type": "stream",
     "text": [
      "127.0.0.1 - - [06/Jun/2022 10:53:02] \"GET /dash_devices HTTP/1.1\" 200 -\n",
      "127.0.0.1 - - [06/Jun/2022 10:53:02] \"GET /static/assets/css/bootstrap.min.css HTTP/1.1\" 304 -\n",
      "127.0.0.1 - - [06/Jun/2022 10:53:02] \"GET /static/assets/css/animate.min.css HTTP/1.1\" 304 -\n",
      "127.0.0.1 - - [06/Jun/2022 10:53:02] \"GET /static/assets/css/paper-dashboard.css HTTP/1.1\" 304 -\n",
      "127.0.0.1 - - [06/Jun/2022 10:53:02] \"GET /static/assets/css/demo.css HTTP/1.1\" 304 -\n",
      "127.0.0.1 - - [06/Jun/2022 10:53:02] \"GET /static/assets/js/jquery-1.10.2.js HTTP/1.1\" 304 -\n",
      "127.0.0.1 - - [06/Jun/2022 10:53:02] \"GET /static/assets/css/themify-icons.css HTTP/1.1\" 304 -\n",
      "127.0.0.1 - - [06/Jun/2022 10:53:03] \"GET /static/assets/fonts/themify.woff?-fvbane HTTP/1.1\" 304 -\n",
      "127.0.0.1 - - [06/Jun/2022 10:53:06] \"GET /trends HTTP/1.1\" 200 -\n",
      "127.0.0.1 - - [06/Jun/2022 10:53:07] \"GET /static/assets/css/bootstrap.min.css HTTP/1.1\" 304 -\n",
      "127.0.0.1 - - [06/Jun/2022 10:53:07] \"GET /static/assets/css/paper-dashboard.css HTTP/1.1\" 304 -\n",
      "127.0.0.1 - - [06/Jun/2022 10:53:07] \"GET /static/assets/css/animate.min.css HTTP/1.1\" 304 -\n",
      "127.0.0.1 - - [06/Jun/2022 10:53:07] \"GET /static/assets/css/demo.css HTTP/1.1\" 304 -\n",
      "127.0.0.1 - - [06/Jun/2022 10:53:07] \"GET /static/assets/css/themify-icons.css HTTP/1.1\" 304 -\n",
      "127.0.0.1 - - [06/Jun/2022 10:53:07] \"GET /static/assets/js/jquery-1.10.2.js HTTP/1.1\" 304 -\n",
      "127.0.0.1 - - [06/Jun/2022 10:53:08] \"GET / HTTP/1.1\" 200 -\n",
      "127.0.0.1 - - [06/Jun/2022 10:53:08] \"GET /static/assets/css/bootstrap.min.css HTTP/1.1\" 304 -\n",
      "127.0.0.1 - - [06/Jun/2022 10:53:09] \"GET /static/assets/css/animate.min.css HTTP/1.1\" 304 -\n",
      "127.0.0.1 - - [06/Jun/2022 10:53:09] \"GET /static/assets/css/paper-dashboard.css HTTP/1.1\" 304 -\n",
      "127.0.0.1 - - [06/Jun/2022 10:53:09] \"GET /static/assets/css/demo.css HTTP/1.1\" 304 -\n",
      "127.0.0.1 - - [06/Jun/2022 10:53:09] \"GET /static/assets/js/jquery-1.10.2.js HTTP/1.1\" 304 -\n",
      "127.0.0.1 - - [06/Jun/2022 10:53:09] \"GET /static/assets/css/themify-icons.css HTTP/1.1\" 304 -\n"
     ]
    },
    {
     "name": "stdout",
     "output_type": "stream",
     "text": [
      "2022-06-06 10:53:16,278 - WARNING | APDU Abort Reject Reason : Timeout\n",
      "2022-06-06 10:53:16,279 - WARNING | No response from controller Timeout\n"
     ]
    },
    {
     "name": "stderr",
     "output_type": "stream",
     "text": [
      "WARNING:bokeh.core.validation.check:W-1002 (EMPTY_LAYOUT): Layout has no children: Column(id='1003', ...)\n",
      "127.0.0.1 - - [06/Jun/2022 12:46:17] \"GET /dash_devices HTTP/1.1\" 200 -\n",
      "127.0.0.1 - - [06/Jun/2022 12:46:17] \"GET /static/assets/css/bootstrap.min.css HTTP/1.1\" 304 -\n",
      "127.0.0.1 - - [06/Jun/2022 12:46:18] \"GET /static/assets/css/animate.min.css HTTP/1.1\" 304 -\n",
      "127.0.0.1 - - [06/Jun/2022 12:46:18] \"GET /static/assets/css/demo.css HTTP/1.1\" 304 -\n",
      "127.0.0.1 - - [06/Jun/2022 12:46:18] \"GET /static/assets/css/themify-icons.css HTTP/1.1\" 304 -\n",
      "127.0.0.1 - - [06/Jun/2022 12:46:18] \"GET /static/assets/css/paper-dashboard.css HTTP/1.1\" 304 -\n",
      "127.0.0.1 - - [06/Jun/2022 12:46:18] \"GET /static/assets/js/jquery-1.10.2.js HTTP/1.1\" 304 -\n",
      "127.0.0.1 - - [06/Jun/2022 12:46:18] \"GET /static/assets/fonts/themify.woff?-fvbane HTTP/1.1\" 304 -\n",
      "127.0.0.1 - - [06/Jun/2022 12:46:21] \"GET / HTTP/1.1\" 200 -\n",
      "127.0.0.1 - - [06/Jun/2022 12:46:22] \"GET /static/assets/css/bootstrap.min.css HTTP/1.1\" 304 -\n",
      "127.0.0.1 - - [06/Jun/2022 12:46:22] \"GET /static/assets/css/animate.min.css HTTP/1.1\" 304 -\n",
      "127.0.0.1 - - [06/Jun/2022 12:46:22] \"GET /static/assets/css/demo.css HTTP/1.1\" 304 -\n",
      "127.0.0.1 - - [06/Jun/2022 12:46:22] \"GET /static/assets/css/paper-dashboard.css HTTP/1.1\" 304 -\n",
      "127.0.0.1 - - [06/Jun/2022 12:46:22] \"GET /static/assets/css/themify-icons.css HTTP/1.1\" 304 -\n",
      "127.0.0.1 - - [06/Jun/2022 12:46:22] \"GET /static/assets/js/jquery-1.10.2.js HTTP/1.1\" 304 -\n",
      "127.0.0.1 - - [06/Jun/2022 12:46:28] \"GET /dash_devices HTTP/1.1\" 200 -\n",
      "127.0.0.1 - - [06/Jun/2022 12:46:28] \"GET /static/assets/css/bootstrap.min.css HTTP/1.1\" 304 -\n",
      "127.0.0.1 - - [06/Jun/2022 12:46:28] \"GET /static/assets/css/animate.min.css HTTP/1.1\" 304 -\n",
      "127.0.0.1 - - [06/Jun/2022 12:46:28] \"GET /static/assets/css/paper-dashboard.css HTTP/1.1\" 304 -\n",
      "127.0.0.1 - - [06/Jun/2022 12:46:28] \"GET /static/assets/css/themify-icons.css HTTP/1.1\" 304 -\n",
      "127.0.0.1 - - [06/Jun/2022 12:46:28] \"GET /static/assets/css/demo.css HTTP/1.1\" 304 -\n",
      "127.0.0.1 - - [06/Jun/2022 12:46:28] \"GET /static/assets/js/jquery-1.10.2.js HTTP/1.1\" 304 -\n"
     ]
    },
    {
     "name": "stdout",
     "output_type": "stream",
     "text": [
      "2022-06-06 12:46:32,068 - WARNING | APDU Abort Reject Reason : Timeout\n",
      "2022-06-06 12:46:32,069 - WARNING | No response from controller Timeout\n"
     ]
    },
    {
     "name": "stderr",
     "output_type": "stream",
     "text": [
      "127.0.0.1 - - [06/Jun/2022 12:46:32] \"GET /trends HTTP/1.1\" 200 -\n",
      "127.0.0.1 - - [06/Jun/2022 12:46:32] \"GET /static/assets/css/bootstrap.min.css HTTP/1.1\" 304 -\n",
      "127.0.0.1 - - [06/Jun/2022 12:46:33] \"GET /static/assets/css/animate.min.css HTTP/1.1\" 304 -\n",
      "127.0.0.1 - - [06/Jun/2022 12:46:33] \"GET /static/assets/css/paper-dashboard.css HTTP/1.1\" 304 -\n",
      "127.0.0.1 - - [06/Jun/2022 12:46:33] \"GET /static/assets/css/themify-icons.css HTTP/1.1\" 304 -\n",
      "127.0.0.1 - - [06/Jun/2022 12:46:33] \"GET /static/assets/css/demo.css HTTP/1.1\" 304 -\n",
      "127.0.0.1 - - [06/Jun/2022 12:46:33] \"GET /static/assets/js/jquery-1.10.2.js HTTP/1.1\" 304 -\n",
      "127.0.0.1 - - [06/Jun/2022 12:46:35] \"GET / HTTP/1.1\" 200 -\n",
      "127.0.0.1 - - [06/Jun/2022 12:46:35] \"GET /static/assets/css/bootstrap.min.css HTTP/1.1\" 304 -\n",
      "127.0.0.1 - - [06/Jun/2022 12:46:35] \"GET /static/assets/css/animate.min.css HTTP/1.1\" 304 -\n",
      "127.0.0.1 - - [06/Jun/2022 12:46:36] \"GET /static/assets/css/themify-icons.css HTTP/1.1\" 304 -\n",
      "127.0.0.1 - - [06/Jun/2022 12:46:36] \"GET /static/assets/css/paper-dashboard.css HTTP/1.1\" 304 -\n",
      "127.0.0.1 - - [06/Jun/2022 12:46:36] \"GET /static/assets/css/demo.css HTTP/1.1\" 304 -\n",
      "127.0.0.1 - - [06/Jun/2022 12:46:36] \"GET /static/assets/js/jquery-1.10.2.js HTTP/1.1\" 304 -\n"
     ]
    },
    {
     "name": "stdout",
     "output_type": "stream",
     "text": [
      "2022-06-06 12:46:45,129 - WARNING | APDU Abort Reject Reason : Timeout\n",
      "2022-06-06 12:46:45,130 - WARNING | No response from controller Timeout\n"
     ]
    },
    {
     "name": "stderr",
     "output_type": "stream",
     "text": [
      "WARNING:bokeh.core.validation.check:W-1002 (EMPTY_LAYOUT): Layout has no children: Column(id='1003', ...)\n"
     ]
    }
   ],
   "source": [
    "import BAC0\n",
    "\n",
    "BAC0.log_level('silence')\n",
    "\n",
    "bacnet = BAC0.connect(ip='192.168.17.186/21')\n",
    "\n",
    "device1 = BAC0.device('192.168.17.188:47345', 4000, bacnet, poll=60)\n",
    "device2 = BAC0.device('192.168.20.79:47345', 7000, bacnet, poll=60)\n",
    "device3 = BAC0.device('192.168.20.71:47345', 50000, bacnet, poll=60)\n",
    "device4 = BAC0.device('192.168.17.189:47345', 100000, bacnet, poll=60)\n"
   ]
  },
  {
   "cell_type": "code",
   "execution_count": null,
   "id": "f6e700c4",
   "metadata": {},
   "outputs": [],
   "source": []
  }
 ],
 "metadata": {
  "kernelspec": {
   "display_name": "Python 3 (ipykernel)",
   "language": "python",
   "name": "python3"
  },
  "language_info": {
   "codemirror_mode": {
    "name": "ipython",
    "version": 3
   },
   "file_extension": ".py",
   "mimetype": "text/x-python",
   "name": "python",
   "nbconvert_exporter": "python",
   "pygments_lexer": "ipython3",
   "version": "3.10.0"
  }
 },
 "nbformat": 4,
 "nbformat_minor": 5
}
